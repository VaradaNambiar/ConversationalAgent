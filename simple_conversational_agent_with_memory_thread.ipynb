{
 "cells": [
  {
   "cell_type": "code",
   "execution_count": 3,
   "id": "d7856ca6",
   "metadata": {},
   "outputs": [],
   "source": [
    "# %pip install langchain-community langchain[groq] langchain python-dotenv "
   ]
  },
  {
   "cell_type": "code",
   "execution_count": 4,
   "id": "f9680563",
   "metadata": {},
   "outputs": [],
   "source": [
    "from langchain_groq import ChatGroq\n",
    "from langchain_core.runnables.history import RunnableWithMessageHistory \n",
    "from langchain.memory import ChatMessageHistory \n",
    "from langchain_core.prompts import ChatPromptTemplate, MessagesPlaceholder \n",
    "import os\n",
    "from dotenv import load_dotenv\n"
   ]
  },
  {
   "cell_type": "code",
   "execution_count": 6,
   "id": "17aa2ea9",
   "metadata": {},
   "outputs": [],
   "source": [
    "load_dotenv()\n",
    "llm = ChatGroq(model=\"gemma2-9b-it\", temperature=0)  #https://console.groq.com/docs/models\n"
   ]
  },
  {
   "cell_type": "markdown",
   "id": "2c138e6e",
   "metadata": {},
   "source": [
    "### Create a simple in-memory store for chat histories"
   ]
  },
  {
   "cell_type": "code",
   "execution_count": 7,
   "id": "22cb10b0",
   "metadata": {},
   "outputs": [],
   "source": [
    "store = {}\n",
    "\n",
    "def get_chat_history(session_id : str):\n",
    "    if session_id not in store:\n",
    "        store[session_id] = ChatMessageHistory()\n",
    "    return store[session_id]"
   ]
  },
  {
   "cell_type": "markdown",
   "id": "75257d92",
   "metadata": {},
   "source": [
    "### PromptTemplate"
   ]
  },
  {
   "cell_type": "code",
   "execution_count": 10,
   "id": "15b08e63",
   "metadata": {},
   "outputs": [],
   "source": [
    "prompt = ChatPromptTemplate([\n",
    "(\"system\" , \"You are a helpful AI assistant.\"),\n",
    "    MessagesPlaceholder(variable_name = \"history\"),\n",
    "(\"human\", \"{input}\")]\n",
    ")\n",
    "\n",
    "chain = prompt | llm\n",
    "\n",
    "chain_with_history = RunnableWithMessageHistory(chain, get_chat_history, input_messages_key=\"input\", history_messages_key = \"history\")"
   ]
  },
  {
   "cell_type": "code",
   "execution_count": 11,
   "id": "b4114c0a",
   "metadata": {},
   "outputs": [
    {
     "name": "stdout",
     "output_type": "stream",
     "text": [
      "AI: Hello! I'm doing well, thank you for asking. As an AI, I don't have feelings, but I'm ready to assist you with any questions or tasks you may have.\n",
      "\n",
      "How can I help you today? 😊\n",
      "\n",
      "AI: Your previous message was \"Hello! How are you?\". 😊  \n",
      "\n",
      "Is there anything else I can help you with?\n",
      "\n"
     ]
    }
   ],
   "source": [
    "session_id = \"user_123\"\n",
    "\n",
    "\n",
    "response1 = chain_with_history.invoke(\n",
    "    {\"input\": \"Hello! How are you?\"},\n",
    "    config={\"configurable\": {\"session_id\": session_id}}\n",
    ")\n",
    "print(\"AI:\", response1.content)\n",
    "\n",
    "response2 = chain_with_history.invoke(\n",
    "    {\"input\": \"What was my previous message?\"},\n",
    "    config={\"configurable\": {\"session_id\": session_id}}\n",
    ")\n",
    "print(\"AI:\", response2.content)"
   ]
  },
  {
   "cell_type": "code",
   "execution_count": null,
   "id": "71e4f222",
   "metadata": {},
   "outputs": [],
   "source": []
  }
 ],
 "metadata": {
  "kernelspec": {
   "display_name": "langchain_groq",
   "language": "python",
   "name": "conversation_agent"
  },
  "language_info": {
   "codemirror_mode": {
    "name": "ipython",
    "version": 3
   },
   "file_extension": ".py",
   "mimetype": "text/x-python",
   "name": "python",
   "nbconvert_exporter": "python",
   "pygments_lexer": "ipython3",
   "version": "3.10.4"
  }
 },
 "nbformat": 4,
 "nbformat_minor": 5
}
